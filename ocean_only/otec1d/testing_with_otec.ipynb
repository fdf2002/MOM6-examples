{
 "cells": [
  {
   "cell_type": "code",
   "execution_count": null,
   "id": "4cdaca3d-00be-4545-a9e1-1fc9ee79bd9a",
   "metadata": {},
   "outputs": [],
   "source": [
    "import xarray as xr\n",
    "import matplotlib.pyplot as plt"
   ]
  },
  {
   "cell_type": "code",
   "execution_count": null,
   "id": "dfc26da8-2478-465d-88c4-a74ee538a36b",
   "metadata": {},
   "outputs": [],
   "source": [
    "ds = xr.open_dataset(\"with_otec/prog.nc\").mean(['xh', 'yh'])\n",
    "ini = xr.open_dataset(\"with_otec/MOM_IC.nc\")"
   ]
  },
  {
   "cell_type": "code",
   "execution_count": null,
   "id": "8f529bef",
   "metadata": {},
   "outputs": [],
   "source": [
    "# Graph the depth of each layer over time\n",
    "ds['eh'] = xr.ones_like(ds['h']) * 0.5*( ds['e'].sel(zi=ds['zi'][1:]).data + ds['e'].sel(zi=ds['zi'][:-1]).data )\n",
    "eh = ds['eh']\n",
    "for z in ds['zl']:\n",
    "    eh.sel(zl=z).plot()\n",
    "    \n",
    "plt.ylim(-1200, 0)\n",
    "plt.title(\"Layer level depths vs Time\")\n",
    "plt.ylabel(\"Layer Height (m)\");"
   ]
  },
  {
   "cell_type": "markdown",
   "id": "ac08f242-a751-44d0-9bf3-8b589b527250",
   "metadata": {},
   "source": [
    "### Evolution of temperature profile"
   ]
  },
  {
   "cell_type": "code",
   "execution_count": null,
   "id": "a3f46609-20d0-43ef-9164-7a2acc474873",
   "metadata": {},
   "outputs": [],
   "source": [
    "plt.figure(figsize=(5,5))\n",
    "\n",
    "ini['Temp'].mean(['lath', 'lonh']).plot(y='Layer', color='k', lw=5., alpha=0.5, label=\"IC\")\n",
    "for t in ds['Time'][::5]:\n",
    "    plt.plot(ds['temp'].sel(Time=t), -ds['eh'].sel(Time=t), marker=\".\", label=t.to_masked_array())\n",
    "plt.grid(True)\n",
    "\n",
    "plt.ylim(1200, 0)\n",
    "plt.xlim(0, 30)\n",
    "plt.title(\"Temperature Profile Near the Surface\")\n",
    "plt.ylabel(\"Depth (m)\")\n",
    "plt.xlabel(\"temp (degC)\")\n",
    "plt.legend();"
   ]
  },
  {
   "cell_type": "markdown",
   "id": "cccd96bf-96c9-4c00-b34f-76c868cf3af8",
   "metadata": {},
   "source": [
    "### Show that mass sinks just shift profile towards mass source at rate of $W_{OTEC}$"
   ]
  },
  {
   "cell_type": "code",
   "execution_count": null,
   "id": "672eadca-3717-4cfc-83a8-a4aa47f3f0cd",
   "metadata": {},
   "outputs": [],
   "source": [
    "plt.figure(figsize=(10,5))\n",
    "\n",
    "plt.subplot(1,2,1)\n",
    "ini['Temp'].mean(['lath', 'lonh']).plot(y='Layer', color='k', lw=5., alpha=0.5, label=\"IC\")\n",
    "for t in ds['Time'][::5]:\n",
    "    W = 0.0001\n",
    "    dH = W * (t - ds['Time'][0]).astype('float64')*1e-9\n",
    "    plt.plot(ds['temp'].sel(Time=t), -ds['eh'].sel(Time=t) + dH, marker=\".\", label=t.to_masked_array())\n",
    "plt.grid(True)\n",
    "\n",
    "plt.ylim(500, 0)\n",
    "plt.xlim(0, 30)\n",
    "plt.title(\"Temperature Profile Near the Surface\")\n",
    "plt.ylabel(\"Depth (m)\")\n",
    "plt.xlabel(\"temp (degC)\")\n",
    "plt.legend()\n",
    "\n",
    "plt.subplot(1,2,2)\n",
    "ini['Temp'].mean(['lath', 'lonh']).plot(y='Layer', color='k', lw=5., alpha=0.5, label=\"IC\")\n",
    "for t in ds['Time'][::5]:\n",
    "    W = 0.0001\n",
    "    dH = W * (t - ds['Time'][0]).astype('float64')*1e-9\n",
    "    plt.plot(ds['temp'].sel(Time=t), -ds['eh'].sel(Time=t) - dH, marker=\".\", label=t.to_masked_array())\n",
    "plt.grid(True)\n",
    "\n",
    "plt.ylim(1000, 500)\n",
    "plt.xlim(0, 30)\n",
    "plt.title(\"Temperature Profile Near the Surface\")\n",
    "plt.ylabel(\"Depth (m)\")\n",
    "plt.xlabel(\"temp (degC)\")\n",
    "plt.legend();"
   ]
  },
  {
   "cell_type": "markdown",
   "id": "d6d11c57-f0a2-4f6c-a91b-cee2c4844513",
   "metadata": {},
   "source": [
    "### Evolution of salinity profile"
   ]
  },
  {
   "cell_type": "code",
   "execution_count": null,
   "id": "7134e9f8-01ae-48a1-af9d-b1edaaf228b3",
   "metadata": {},
   "outputs": [],
   "source": [
    "plt.figure(figsize=(5,5))\n",
    "\n",
    "ini['Salt'].mean(['lath', 'lonh']).plot(y='Layer', color='k', lw=5., alpha=0.5, label=\"IC\")\n",
    "for t in ds['Time'][::5]:\n",
    "    plt.plot(ds['salt'].sel(Time=t), -ds['eh'].sel(Time=t), marker=\".\", label=t.to_masked_array())\n",
    "plt.grid(True)\n",
    "\n",
    "plt.ylim(1200, 0)\n",
    "#plt.xlim(34.3, 35.0)\n",
    "plt.title(\"Salinity Profile Near the Surface\")\n",
    "plt.ylabel(\"Depth (m)\")\n",
    "plt.xlabel(\"Salinity (g/kg)\")\n",
    "plt.legend();"
   ]
  },
  {
   "cell_type": "markdown",
   "id": "d84215b4",
   "metadata": {},
   "source": [
    "# Plot Power Over Time"
   ]
  },
  {
   "cell_type": "code",
   "execution_count": null,
   "id": "9c17cbe1-16ee-486c-9bdc-6231a388fbca",
   "metadata": {},
   "outputs": [],
   "source": [
    "# initialize variables as shown above\n",
    "area = 1 # of the whole ocean, in m^2\n",
    "\n",
    "rho = 1025.\n",
    "cp = 3925.\n",
    "\n",
    "# temperature at the surface\n",
    "T_top = ds['temp'].sel(zl=20, method='nearest')\n",
    "dT = T_top - ds['temp'].sel(zl=1000, method='nearest')\n",
    "\n",
    "# design conditions = initial conditions at 1000m and mixed layer\n",
    "# T_design = ini['Temp'][0,0]\n",
    "# dT_design = T_design - ini['Temp'].sel(Layer=1000, method='nearest')[0]\n",
    "# NOTE: These gave data that made no sense. Instead I now assume T_design=T and dT_design = dT\n",
    "T_design = T_top\n",
    "dT_design = dT\n",
    "\n",
    "# Input w_cw in m/year.\n",
    "def plotpower(w_cw, gamma, eff_tg):\n",
    "    Q_cw = w_cw * area\n",
    "    \n",
    "    # coefficient to multiply by both powers involved\n",
    "    coeff = Q_cw*rho*cp*eff_tg / (8*T_top)\n",
    "    # generator\n",
    "    P_gen = 3*coeff * (dT**2) / (2*(1+gamma))\n",
    "    # parasitic\n",
    "    P_p = coeff * dT_design**2 * (.18 + .12 * (gamma/2)**2.75)\n",
    "    P_net = P_gen - P_p\n",
    "    \n",
    "    P_gen.plot(label='generated')\n",
    "    P_p.plot(label='parasitic')\n",
    "    P_net.plot(label='net power')\n",
    "    plt.title('OTEC Net Generation')\n",
    "    plt.ylabel('Power Intensity (W m-2)')\n",
    "    plt.legend()\n",
    "\n",
    "plotpower(.0001, 1.0, 0.85)"
   ]
  }
 ],
 "metadata": {
  "kernelspec": {
   "display_name": "Python 3 (ipykernel)",
   "language": "python",
   "name": "python3"
  },
  "language_info": {
   "codemirror_mode": {
    "name": "ipython",
    "version": 3
   },
   "file_extension": ".py",
   "mimetype": "text/x-python",
   "name": "python",
   "nbconvert_exporter": "python",
   "pygments_lexer": "ipython3",
   "version": "3.9.13"
  },
  "vscode": {
   "interpreter": {
    "hash": "2d3fdbaa93e10a7ce53e2891b9f451c86db8bfd76a0e585ec34b59908a0e853d"
   }
  }
 },
 "nbformat": 4,
 "nbformat_minor": 5
}
