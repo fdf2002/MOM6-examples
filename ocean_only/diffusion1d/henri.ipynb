{
 "cells": [
  {
   "cell_type": "markdown",
   "id": "c1b5a789",
   "metadata": {},
   "source": [
    "# Henri's Input\n",
    "* NK = 10 (10 vert layers)\n",
    "* KD = 0.2 (diffusivity)\n",
    "* TS_CONFIG = \"linear\" (linear temperature gradient to start)\n",
    "\n",
    "\n",
    "* EQN_OF_STATE = \"LINEAR\" (will not be the greatest approximation for OTEC)\n",
    "* DRHO_DT = -0.2 ($d \\rho /dT$)\n",
    "* DRHO_DS = 0.0 ($d\\rho / d (salinity)$)\n",
    "\n",
    "\n",
    "* T_TOP = 30.0\n",
    "* T_RANGE = 15.0\n",
    "* S_TOP = 0.0 (salinity)\n",
    "* S_RANGE = 0.0"
   ]
  },
  {
   "cell_type": "code",
   "execution_count": 1,
   "id": "4cdaca3d-00be-4545-a9e1-1fc9ee79bd9a",
   "metadata": {},
   "outputs": [],
   "source": [
    "import xarray as xr\n",
    "import matplotlib.pyplot as plt\n",
    "import ipywidgets"
   ]
  },
  {
   "cell_type": "code",
   "execution_count": 2,
   "id": "dfc26da8-2478-465d-88c4-a74ee538a36b",
   "metadata": {},
   "outputs": [],
   "source": [
    "ds = xr.open_dataset(\"henri/prog.nc\")\n",
    "ini = xr.open_dataset(\"henri/MOM_IC.nc\")"
   ]
  },
  {
   "cell_type": "code",
   "execution_count": 3,
   "id": "7ed0f932-009c-4449-893f-f401d1ab0872",
   "metadata": {
    "scrolled": false
   },
   "outputs": [
    {
     "data": {
      "application/vnd.jupyter.widget-view+json": {
       "model_id": "7d83c849a8c54b3baee54f19f18d4deb",
       "version_major": 2,
       "version_minor": 0
      },
      "text/plain": [
       "interactive(children=(IntSlider(value=4, description='t', max=9), Output()), _dom_classes=('widget-interact',)…"
      ]
     },
     "metadata": {},
     "output_type": "display_data"
    },
    {
     "data": {
      "text/plain": [
       "<function __main__.show(t)>"
      ]
     },
     "execution_count": 3,
     "metadata": {},
     "output_type": "execute_result"
    }
   ],
   "source": [
    "def show(t):\n",
    "    ini['Temp'].mean(['lath', 'lonh']).plot(y='Layer', color='k', lw=5., alpha=0.5)\n",
    "    ds['temp'].isel(Time=t).mean(['xh', 'yh']).plot(y='zl', marker=\".\")\n",
    "    plt.grid(True)\n",
    "    plt.ylim(2000, 0)\n",
    "\n",
    "ipywidgets.interact(show, t=(0, ds['Time'].size-1))"
   ]
  },
  {
   "cell_type": "code",
   "execution_count": null,
   "id": "a509ce5d-2388-45bf-87a4-bec770ff630e",
   "metadata": {},
   "outputs": [],
   "source": []
  }
 ],
 "metadata": {
  "kernelspec": {
   "display_name": "Python 3 (ipykernel)",
   "language": "python",
   "name": "python3"
  },
  "language_info": {
   "codemirror_mode": {
    "name": "ipython",
    "version": 3
   },
   "file_extension": ".py",
   "mimetype": "text/x-python",
   "name": "python",
   "nbconvert_exporter": "python",
   "pygments_lexer": "ipython3",
   "version": "3.9.13"
  }
 },
 "nbformat": 4,
 "nbformat_minor": 5
}
